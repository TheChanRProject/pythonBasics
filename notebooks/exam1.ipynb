{
 "cells": [
  {
   "cell_type": "markdown",
   "metadata": {},
   "source": [
    "### Nishant's Exam 1: Separate\n"
   ]
  },
  {
   "cell_type": "code",
   "execution_count": 1,
   "metadata": {},
   "outputs": [
    {
     "name": "stdout",
     "output_type": "stream",
     "text": [
      "Requirement already satisfied: pycipher in /Users/rchatter/anaconda3/lib/python3.6/site-packages\n",
      "\u001b[33mYou are using pip version 9.0.3, however version 10.0.1 is available.\n",
      "You should consider upgrading via the 'pip install --upgrade pip' command.\u001b[0m\n"
     ]
    }
   ],
   "source": [
    "import sys\n",
    "!{sys.executable} -m pip install pycipher  "
   ]
  },
  {
   "cell_type": "code",
   "execution_count": 2,
   "metadata": {},
   "outputs": [
    {
     "name": "stdout",
     "output_type": "stream",
     "text": [
      "Requirement already satisfied: numpy in /Users/rchatter/anaconda3/lib/python3.6/site-packages\n",
      "\u001b[33mYou are using pip version 9.0.3, however version 10.0.1 is available.\n",
      "You should consider upgrading via the 'pip install --upgrade pip' command.\u001b[0m\n"
     ]
    }
   ],
   "source": [
    "!{sys.executable} -m pip install numpy\n"
   ]
  },
  {
   "cell_type": "code",
   "execution_count": 3,
   "metadata": {},
   "outputs": [],
   "source": [
    "import numpy as np\n",
    "from pycipher import Caesar"
   ]
  },
  {
   "cell_type": "code",
   "execution_count": 9,
   "metadata": {},
   "outputs": [],
   "source": [
    "weeklySales = [12892.00, 15131.00, 91919.12, 92923.01, 81799.53, 45921.72, 89031.73]"
   ]
  },
  {
   "cell_type": "code",
   "execution_count": 10,
   "metadata": {},
   "outputs": [
    {
     "name": "stdout",
     "output_type": "stream",
     "text": [
      "[12892.   15131.   91919.12 92923.01 81799.53 45921.72 89031.73]\n"
     ]
    }
   ],
   "source": [
    "array = np.array(weeklySales)\n",
    "print(array)"
   ]
  },
  {
   "cell_type": "code",
   "execution_count": 11,
   "metadata": {},
   "outputs": [
    {
     "name": "stdout",
     "output_type": "stream",
     "text": [
      "61374.01571428571\n"
     ]
    }
   ],
   "source": [
    "def mean(x: np.array):\n",
    "    return sum(x) / len(x)\n",
    "\n",
    "print(mean(array))"
   ]
  },
  {
   "cell_type": "code",
   "execution_count": 16,
   "metadata": {},
   "outputs": [
    {
     "name": "stdout",
     "output_type": "stream",
     "text": [
      "-2\n"
     ]
    }
   ],
   "source": [
    "def determinant(x: np.array):\n",
    "    if x.shape == (2,2):\n",
    "        return (x[0][0] * x[1][1]) - (x[0][1] * x[1][0])\n",
    "\n",
    "testArray = np.arange(1,5).reshape(2,2)\n",
    "print(determinant(testArray))\n"
   ]
  },
  {
   "cell_type": "code",
   "execution_count": 28,
   "metadata": {},
   "outputs": [
    {
     "name": "stdout",
     "output_type": "stream",
     "text": [
      "[['GRINJUTHINKSRISHUISPRO']\n",
      " ['FRANCISISAFUCKINGWALLER']\n",
      " ['MEITHINKSDOMINICISCREEPYBUTWEALLSTILLHANGOUTWITHHIMWHATTHEFUCKISWRONGWITHUS']\n",
      " ['DESTROYERSAYSTOPUPFORME']]\n"
     ]
    }
   ],
   "source": [
    "ciphertext1, ciphertext2,ciphertext3, ciphertext4 = 'JULQMXWKLQNVULVKXLVSUR','IUDQFLVLVDIXFNLQJZDOOHU','PHLWKLQNVGRPLQLFLVFUHHSBEXWZHDOOVWLOOKDQJRXWZLWKKLPZKDWWKHIXFNLVZURQJZLWKXV','GHVWURBHUVDBVWRSXSIRUPH'\n",
    "\n",
    "def decode(ciphertext):\n",
    "    return Caesar(3).decipher(ciphertext)\n",
    "\n",
    "messageList = [decode(ciphertext1), decode(ciphertext2),decode(ciphertext3), decode(ciphertext4)]\n",
    "messageArray = np.array(messageList).reshape(4,1)\n",
    "print(messageArray)"
   ]
  },
  {
   "cell_type": "code",
   "execution_count": null,
   "metadata": {},
   "outputs": [],
   "source": []
  }
 ],
 "metadata": {
  "kernelspec": {
   "display_name": "Python 3",
   "language": "python",
   "name": "python3"
  },
  "language_info": {
   "codemirror_mode": {
    "name": "ipython",
    "version": 3
   },
   "file_extension": ".py",
   "mimetype": "text/x-python",
   "name": "python",
   "nbconvert_exporter": "python",
   "pygments_lexer": "ipython3",
   "version": "3.6.4"
  }
 },
 "nbformat": 4,
 "nbformat_minor": 2
}
