{
 "cells": [
  {
   "cell_type": "markdown",
   "metadata": {},
   "source": [
    "### Exam for Nishant "
   ]
  },
  {
   "cell_type": "markdown",
   "metadata": {},
   "source": [
    "##### Question 1: \n",
    "\n",
    "Build a function that can take the mean from from this list of daily sales at a local McDonalds in Rancho Cucamonga.\n",
    "\n",
    "Hint: You can change weeklySales into a matrix by performing np.array(weeklySales) \n",
    "\n",
    "Formula for mean: \n",
    "\n",
    "$$ \\frac{\\sum_{i=1}^{n}({i})}{n} $$ \n",
    "\n"
   ]
  },
  {
   "cell_type": "code",
   "execution_count": 1,
   "metadata": {},
   "outputs": [],
   "source": [
    "weeklySales = [12892.00, 15131.00, 91919.12, 92923.01, 81799.53, 45921.72, 89031.73]"
   ]
  },
  {
   "cell_type": "markdown",
   "metadata": {},
   "source": [
    "### Question 2:\n",
    "\n",
    "Build a function that can take the determinant of any 2x2 matrix.\n",
    "\n",
    "A 2x2 matrix is any matrix that has two rows and two columns. \n",
    "\n",
    "$$\n",
    "\\begin{equation*}\n",
    "\\mathbf{M} =  \\begin{vmatrix}\n",
    "\\mathbf{a} & \\mathbf{b} \\\\\n",
    "\\mathbf{c} & \\mathbf{d} \\\\ \n",
    "\\end{vmatrix}\n",
    "\\end{equation*} \n",
    "$$ \n",
    "\n",
    "$$ Det_M = a*d - b*c $$ "
   ]
  },
  {
   "cell_type": "markdown",
   "metadata": {},
   "source": [
    "#### Question 3: \n",
    "\n",
    "Decipher the following messages using the Caesar Cipher:\n",
    "\n",
    "1. JULQMXWKLQNVULVKXLVSUR\n",
    "2. IUDQFLVLVDIXFNLQJZDOOHU\n",
    "3. PHLWKLQNVGRPLQLFLVFUHHSBEXWZHDOOVWLOOKDQJRXWZLWKKLPZKDWWKHIXFNLVZURQJZLWKXV\n",
    "4. GHVWURBHUVDBVWRSXSIRUPH"
   ]
  }
 ],
 "metadata": {
  "kernelspec": {
   "display_name": "Python 3",
   "language": "python",
   "name": "python3"
  },
  "language_info": {
   "codemirror_mode": {
    "name": "ipython",
    "version": 3
   },
   "file_extension": ".py",
   "mimetype": "text/x-python",
   "name": "python",
   "nbconvert_exporter": "python",
   "pygments_lexer": "ipython3",
   "version": "3.6.4"
  }
 },
 "nbformat": 4,
 "nbformat_minor": 2
}
