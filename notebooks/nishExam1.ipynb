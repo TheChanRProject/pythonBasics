{
 "cells": [
  {
   "cell_type": "markdown",
   "metadata": {},
   "source": [
    "### Exam for Nishant "
   ]
  },
  {
   "cell_type": "markdown",
   "metadata": {},
   "source": [
    "##### Question 1: \n",
    "\n",
    "Build a function that can take the mean from from this list of daily sales at a local McDonalds in Rancho Cucamonga.\n",
    "\n",
    "Hint: You can change weeklySales into a matrix by performing np.array(weeklySales) \n",
    "\n",
    "Formula for mean: \n",
    "\n",
    "$$ \\frac{\\sum_{i=1}^{n}({i})}{n} $$ \n",
    "\n"
   ]
  },
  {
   "cell_type": "code",
   "execution_count": 1,
   "metadata": {},
   "outputs": [],
   "source": [
    "weeklySales = [12892.00, 15131.00, 91919.12, 92923.01, 81799.53, 45921.72, 89031.73]"
   ]
  },
  {
   "cell_type": "code",
   "execution_count": 2,
   "metadata": {},
   "outputs": [
    {
     "name": "stdout",
     "output_type": "stream",
     "text": [
      "61374.01571428571\n"
     ]
    }
   ],
   "source": [
    "import numpy as np\n",
    "\n",
    "def sales(x):\n",
    "    x = np.array(weeklySales)\n",
    "    return sum(x) / len(x)\n",
    "\n",
    "print(sales(weeklySales))"
   ]
  },
  {
   "cell_type": "markdown",
   "metadata": {},
   "source": [
    "### Question 2:\n",
    "\n",
    "Build a function that can take the determinant of any 2x2 matrix.\n",
    "\n",
    "A 2x2 matrix is any matrix that has two rows and two columns. \n",
    "\n",
    "$$\n",
    "\\begin{equation*}\n",
    "\\mathbf{M} =  \\begin{vmatrix}\n",
    "\\mathbf{a} & \\mathbf{b} \\\\\n",
    "\\mathbf{c} & \\mathbf{d} \\\\ \n",
    "\\end{vmatrix}\n",
    "\\end{equation*} \n",
    "$$ \n",
    "\n",
    "$$ Det_M = a*d - b*c $$ "
   ]
  },
  {
   "cell_type": "code",
   "execution_count": 6,
   "metadata": {},
   "outputs": [
    {
     "name": "stdout",
     "output_type": "stream",
     "text": [
      "False\n"
     ]
    }
   ],
   "source": [
    "def det(x:np.array):\n",
    "    if x.shape == (2,2):\n",
    "        return (x[0][0] * x[1][1]) - (x[0][1] * x[1][0])\n",
    "    else: \n",
    "        return False\n",
    "y = np.arange(1,5)\n",
    "print(det(y))\n"
   ]
  },
  {
   "cell_type": "markdown",
   "metadata": {},
   "source": [
    "#### Question 3: \n",
    "\n",
    "Decipher the following messages using the Caesar Cipher:\n",
    "\n",
    "1. JULQMXWKLQNVULVKXLVSUR\n",
    "2. IUDQFLVLVDIXFNLQJZDOOHU\n",
    "3. PHLWKLQNVGRPLQLFLVFUHHSBEXWZHDOOVWLOOKDQJRXWZLWKKLPZKDWWKHIXFNLVZURQJZLWKXV\n",
    "4. GHVWURBHUVDBVWRSXSIRUPH"
   ]
  },
  {
   "cell_type": "code",
   "execution_count": 7,
   "metadata": {},
   "outputs": [
    {
     "name": "stdout",
     "output_type": "stream",
     "text": [
      "Requirement already satisfied: pycipher in /Users/rchatter/miniconda3/lib/python3.6/site-packages (0.5.2)\n",
      "\u001b[33mYou are using pip version 10.0.0, however version 10.0.1 is available.\n",
      "You should consider upgrading via the 'pip install --upgrade pip' command.\u001b[0m\n"
     ]
    }
   ],
   "source": [
    "import sys\n",
    "!{sys.executable} -m pip install pycipher"
   ]
  },
  {
   "cell_type": "code",
   "execution_count": 8,
   "metadata": {},
   "outputs": [],
   "source": [
    "from pycipher import Caesar"
   ]
  },
  {
   "cell_type": "code",
   "execution_count": 9,
   "metadata": {},
   "outputs": [
    {
     "name": "stdout",
     "output_type": "stream",
     "text": [
      "[['GRINJUTHINKSRISHUISPRO']\n",
      " ['FRANCISISAFUCKINGWALLER']\n",
      " ['MEITHINKSDOMINICISCREEPYBUTWEALLSTILLHANGOUTWITHHIMWHATTHEFUCKISWRONGWITHUS']\n",
      " ['DESTROYERSAYSTOPUPFORME']]\n"
     ]
    }
   ],
   "source": [
    "ciphertext1 = 'JULQMXWKLQNVULVKXLVSUR'\n",
    "ciphertext2 = 'IUDQFLVLVDIXFNLQJZDOOHU'\n",
    "ciphertext3 = 'PHLWKLQNVGRPLQLFLVFUHHSBEXWZHDOOVWLOOKDQJRXWZLWKKLPZKDWWKHIXFNLVZURQJZLWKXV'\n",
    "ciphertext4 = 'GHVWURBHUVDBVWRSXSIRUPH'\n",
    "\n",
    "def decode(ciphertext):\n",
    "    return Caesar(3).decipher(ciphertext)\n",
    "\n",
    "messageList = [decode(ciphertext1), decode(ciphertext2),decode(ciphertext3), decode(ciphertext4)]\n",
    "messageArray = np.array(messageList).reshape(4,1)\n",
    "print(messageArray)"
   ]
  }
 ],
 "metadata": {
  "kernelspec": {
   "display_name": "Python 3",
   "language": "python",
   "name": "python3"
  },
  "language_info": {
   "codemirror_mode": {
    "name": "ipython",
    "version": 3
   },
   "file_extension": ".py",
   "mimetype": "text/x-python",
   "name": "python",
   "nbconvert_exporter": "python",
   "pygments_lexer": "ipython3",
   "version": "3.6.4"
  }
 },
 "nbformat": 4,
 "nbformat_minor": 2
}
