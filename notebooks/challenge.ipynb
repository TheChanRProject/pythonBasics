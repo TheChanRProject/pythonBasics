{
 "cells": [
  {
   "cell_type": "markdown",
   "metadata": {},
   "source": [
    "Interesting Challenge "
   ]
  },
  {
   "cell_type": "code",
   "execution_count": 1,
   "metadata": {},
   "outputs": [],
   "source": [
    "from pycipher import Caesar\n",
    "import numpy as np"
   ]
  },
  {
   "cell_type": "code",
   "execution_count": 2,
   "metadata": {},
   "outputs": [],
   "source": [
    "message = 'Nishant will become the greatest cyber security expert one day when he cracks elliptical curve encryption.'"
   ]
  },
  {
   "cell_type": "code",
   "execution_count": 3,
   "metadata": {},
   "outputs": [],
   "source": [
    "messageList = message.split(' ')"
   ]
  },
  {
   "cell_type": "code",
   "execution_count": 4,
   "metadata": {},
   "outputs": [
    {
     "name": "stdout",
     "output_type": "stream",
     "text": [
      "['Nishant', 'will', 'become', 'the', 'greatest', 'cyber', 'security', 'expert', 'one', 'day', 'when', 'he', 'cracks', 'elliptical', 'curve', 'encryption.']\n"
     ]
    }
   ],
   "source": [
    "print(messageList)"
   ]
  },
  {
   "cell_type": "code",
   "execution_count": 12,
   "metadata": {},
   "outputs": [
    {
     "name": "stdout",
     "output_type": "stream",
     "text": [
      "TOYNGTZCORRHKIUSKZNKMXKGZKYZIEHKXYKIAXOZEKDVKXZUTKJGECNKTNKIXGIQYKRROVZOIGRIAXBKKTIXEVZOUT\n"
     ]
    }
   ],
   "source": [
    "messageArray = np.array(messageList)\n",
    "\n",
    "encryptedText = Caesar(6).encipher(str(messageArray))\n",
    "print(encryptedText)"
   ]
  },
  {
   "cell_type": "code",
   "execution_count": null,
   "metadata": {},
   "outputs": [],
   "source": [
    "startingString = "
   ]
  }
 ],
 "metadata": {
  "kernelspec": {
   "display_name": "Python 3",
   "language": "python",
   "name": "python3"
  },
  "language_info": {
   "codemirror_mode": {
    "name": "ipython",
    "version": 3
   },
   "file_extension": ".py",
   "mimetype": "text/x-python",
   "name": "python",
   "nbconvert_exporter": "python",
   "pygments_lexer": "ipython3",
   "version": "3.6.4"
  }
 },
 "nbformat": 4,
 "nbformat_minor": 2
}
